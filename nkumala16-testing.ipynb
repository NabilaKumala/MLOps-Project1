{
 "cells": [
  {
   "cell_type": "markdown",
   "metadata": {},
   "source": [
    "Melakukan import beberapa library yang digunakan untuk model testing."
   ]
  },
  {
   "cell_type": "code",
   "execution_count": 1,
   "metadata": {},
   "outputs": [],
   "source": [
    "import tensorflow as tf\n",
    "import base64\n",
    "import json\n",
    "import requests"
   ]
  },
  {
   "cell_type": "markdown",
   "metadata": {},
   "source": [
    "Membuat fungsi paylooad untuk melakukan testing terhadap ML pipeline model yang telah dibuat. Fungsi ini didefinisikan untuk melakukan encoding text postingan tweet menyesuaikan format yang diharapkan model dengan menggunakan TensorFlow 'Example' dan base64 encoding.\n",
    "\n",
    "Selanjutnya, dibuat suatu list yang etrdiri atas beberapa tweet baru untuk melakukan tes terhadap algoritma model, apakah telah sesuai untuk memprediksi kategori sifat tweet baru tersebut berdasarkan sifatnya.\n",
    "\n",
    "Model endpoint berfungsi untuk mengspesifikasi URL endpoint dari model ML pipeline yang telah diimplementasikan sebelumnya menggunakan Docker.\n",
    "\n",
    "Bagian akhir dari kode ini akan membuat request prediksi terhadap setiap tweet pada list yang ada untuk kemudian mendapatkan keluaran berupa isi tweet dan hasil klasifikasinya."
   ]
  },
  {
   "cell_type": "code",
   "execution_count": 2,
   "metadata": {},
   "outputs": [
    {
     "name": "stdout",
     "output_type": "stream",
     "text": [
      "Tweet: I can't take this anymore. Life is too painful.\n",
      "Classification: Potential Suicide post\n",
      "\n",
      "Tweet: Feeling a bit down today, but hoping tomorrow will be better.\n",
      "Classification: Not Suicide post\n",
      "\n",
      "Tweet: Sometimes I just want to disappear and never come back.\n",
      "Classification: Potential Suicide post\n",
      "\n",
      "Tweet: Having a rough day, but I'll push through it.\n",
      "Classification: Not Suicide post\n",
      "\n",
      "Tweet: Why does everything have to be so hard? I'm so tired of fighting.\n",
      "Classification: Potential Suicide post\n",
      "\n"
     ]
    }
   ],
   "source": [
    "def create_suicide_detection_payload(tweet_text):\n",
    "    feature_dict = {\n",
    "        \"Tweet\": tf.train.Feature(bytes_list=tf.train.BytesList(value=[tweet_text.encode(\"utf-8\")])),\n",
    "    }\n",
    "    \n",
    "    example_proto = tf.train.Example(\n",
    "        features=tf.train.Features(feature=feature_dict)\n",
    "    ).SerializeToString()\n",
    "    \n",
    "    payload = [\n",
    "        {\n",
    "            \"examples\": {\n",
    "                \"b64\": base64.b64encode(example_proto).decode()\n",
    "            }\n",
    "        }\n",
    "    ]\n",
    "    \n",
    "    return json.dumps({\n",
    "        \"signature_name\": \"serving_default\",\n",
    "        \"instances\": payload\n",
    "    })\n",
    "\n",
    "tweet_texts = [\n",
    "    \"I can't take this anymore. Life is too painful.\",\n",
    "    \"Feeling a bit down today, but hoping tomorrow will be better.\",\n",
    "    \"Sometimes I just want to disappear and never come back.\",\n",
    "    \"Having a rough day, but I'll push through it.\",\n",
    "    \"Why does everything have to be so hard? I'm so tired of fighting.\"\n",
    "]\n",
    "\n",
    "model_endpoint = \"http://localhost:8080/v1/models/suicide-detection-model:predict\"\n",
    "\n",
    "for tweet_text in tweet_texts:\n",
    "    json_payload = create_suicide_detection_payload(tweet_text)\n",
    "    \n",
    "    response = requests.post(model_endpoint, data=json_payload, headers={\"Content-Type\": \"application/json\"})\n",
    "    \n",
    "    try:\n",
    "        predictions = response.json().get(\"predictions\")\n",
    "        if predictions:\n",
    "            prediction_score = predictions[0][0]\n",
    "            classification = \"Potential Suicide post\" if prediction_score > 0.5 else \"Not Suicide post\"\n",
    "        else:\n",
    "            classification = \"Error: No predictions found in response.\"\n",
    "    except (ValueError, IndexError, KeyError) as e:\n",
    "        classification = f\"Error processing response: {str(e)}\"\n",
    "    \n",
    "    print(f\"Tweet: {tweet_text}\\nClassification: {classification}\\n\")"
   ]
  }
 ],
 "metadata": {
  "kernelspec": {
   "display_name": "mlops1",
   "language": "python",
   "name": "python3"
  },
  "language_info": {
   "codemirror_mode": {
    "name": "ipython",
    "version": 3
   },
   "file_extension": ".py",
   "mimetype": "text/x-python",
   "name": "python",
   "nbconvert_exporter": "python",
   "pygments_lexer": "ipython3",
   "version": "3.9.15"
  }
 },
 "nbformat": 4,
 "nbformat_minor": 2
}
